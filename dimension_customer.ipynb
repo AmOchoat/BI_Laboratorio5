{
  "nbformat": 4,
  "nbformat_minor": 0,
  "metadata": {
    "colab": {
      "name": "customer.ipynb",
      "provenance": []
    },
    "kernelspec": {
      "name": "python3",
      "display_name": "Python 3"
    },
    "language_info": {
      "name": "python"
    }
  },
  "cells": [
    {
      "cell_type": "code",
      "metadata": {
        "id": "eSxNhS4G4sG3"
      },
      "source": [
        "import pandas as pd\n",
        "from datetime import datetime"
      ],
      "execution_count": 46,
      "outputs": []
    },
    {
      "cell_type": "code",
      "metadata": {
        "colab": {
          "base_uri": "https://localhost:8080/",
          "height": 450
        },
        "id": "K5keOhEM5kzw",
        "outputId": "f4531655-fda8-4274-870f-e890d90645b9"
      },
      "source": [
        "customer_df = pd.read_csv('./Datos/dimension_customer.csv', sep=',')\n",
        "customer_df.set_index('Customer_Key', inplace=True)\n",
        "customer_df"
      ],
      "execution_count": 47,
      "outputs": [
        {
          "output_type": "execute_result",
          "data": {
            "text/html": [
              "<div>\n",
              "<style scoped>\n",
              "    .dataframe tbody tr th:only-of-type {\n",
              "        vertical-align: middle;\n",
              "    }\n",
              "\n",
              "    .dataframe tbody tr th {\n",
              "        vertical-align: top;\n",
              "    }\n",
              "\n",
              "    .dataframe thead th {\n",
              "        text-align: right;\n",
              "    }\n",
              "</style>\n",
              "<table border=\"1\" class=\"dataframe\">\n",
              "  <thead>\n",
              "    <tr style=\"text-align: right;\">\n",
              "      <th></th>\n",
              "      <th>Customer</th>\n",
              "      <th>Bill_To_Customer</th>\n",
              "      <th>Category</th>\n",
              "      <th>Buying_Group</th>\n",
              "      <th>Primary_Contact</th>\n",
              "      <th>Postal_Code</th>\n",
              "    </tr>\n",
              "    <tr>\n",
              "      <th>Customer_Key</th>\n",
              "      <th></th>\n",
              "      <th></th>\n",
              "      <th></th>\n",
              "      <th></th>\n",
              "      <th></th>\n",
              "      <th></th>\n",
              "    </tr>\n",
              "  </thead>\n",
              "  <tbody>\n",
              "    <tr>\n",
              "      <th>1</th>\n",
              "      <td>Tailspin Toys (Head Office)</td>\n",
              "      <td>Tailspin Toys (Head Office)</td>\n",
              "      <td>Novelty Shop</td>\n",
              "      <td>Tailspin Toys</td>\n",
              "      <td>Waldemar Fisar</td>\n",
              "      <td>90410</td>\n",
              "    </tr>\n",
              "    <tr>\n",
              "      <th>2</th>\n",
              "      <td>Tailspin Toys (Sylvanite- MT)</td>\n",
              "      <td>Tailspin Toys (Head Office)</td>\n",
              "      <td>Novelty Shop</td>\n",
              "      <td>Tailspin Toys</td>\n",
              "      <td>Lorena Cindric</td>\n",
              "      <td>90216</td>\n",
              "    </tr>\n",
              "    <tr>\n",
              "      <th>3</th>\n",
              "      <td>Tailspin Toys (Peeples Valley- AZ)</td>\n",
              "      <td>Tailspin Toys (Head Office)</td>\n",
              "      <td>Novelty Shop</td>\n",
              "      <td>Tailspin Toys</td>\n",
              "      <td>Bhaargav Rambhatla</td>\n",
              "      <td>90205</td>\n",
              "    </tr>\n",
              "    <tr>\n",
              "      <th>4</th>\n",
              "      <td>Tailspin Toys (Medicine Lodge- KS)</td>\n",
              "      <td>Tailspin Toys (Head Office)</td>\n",
              "      <td>Novelty Shop</td>\n",
              "      <td>Tailspin Toys</td>\n",
              "      <td>Daniel Roman</td>\n",
              "      <td>90152</td>\n",
              "    </tr>\n",
              "    <tr>\n",
              "      <th>5</th>\n",
              "      <td>Tailspin Toys (Gasport- NY)</td>\n",
              "      <td>Tailspin Toys (Head Office)</td>\n",
              "      <td>Novelty Shop</td>\n",
              "      <td>Tailspin Toys</td>\n",
              "      <td>Johanna Huiting</td>\n",
              "      <td>90261</td>\n",
              "    </tr>\n",
              "    <tr>\n",
              "      <th>...</th>\n",
              "      <td>...</td>\n",
              "      <td>...</td>\n",
              "      <td>...</td>\n",
              "      <td>...</td>\n",
              "      <td>...</td>\n",
              "      <td>...</td>\n",
              "    </tr>\n",
              "    <tr>\n",
              "      <th>398</th>\n",
              "      <td>Wingtip Toys (Haycock- AK)</td>\n",
              "      <td>Wingtip Toys (Head Office)</td>\n",
              "      <td>Novelty Shop</td>\n",
              "      <td>Wingtip Toys</td>\n",
              "      <td>Bhaamini Kanaparthi</td>\n",
              "      <td>90603</td>\n",
              "    </tr>\n",
              "    <tr>\n",
              "      <th>399</th>\n",
              "      <td>Wingtip Toys (Kapa'a- HI)</td>\n",
              "      <td>Wingtip Toys (Head Office)</td>\n",
              "      <td>Novelty Shop</td>\n",
              "      <td>Wingtip Toys</td>\n",
              "      <td>Margit Molnar</td>\n",
              "      <td>90796</td>\n",
              "    </tr>\n",
              "    <tr>\n",
              "      <th>400</th>\n",
              "      <td>Wingtip Toys (Dickworsham- TX)</td>\n",
              "      <td>Wingtip Toys (Head Office)</td>\n",
              "      <td>Novelty Shop</td>\n",
              "      <td>Wingtip Toys</td>\n",
              "      <td>Chandni Jandhyala</td>\n",
              "      <td>90704</td>\n",
              "    </tr>\n",
              "    <tr>\n",
              "      <th>401</th>\n",
              "      <td>Wingtip Toys (Caro- MI)</td>\n",
              "      <td>Wingtip Toys (Head Office)</td>\n",
              "      <td>Novelty Shop</td>\n",
              "      <td>Wingtip Toys</td>\n",
              "      <td>Ljubomir Nesic</td>\n",
              "      <td>90043</td>\n",
              "    </tr>\n",
              "    <tr>\n",
              "      <th>402</th>\n",
              "      <td>Wingtip Toys (Ruthsburg- MD)</td>\n",
              "      <td>Wingtip Toys (Head Office)</td>\n",
              "      <td>Novelty Shop</td>\n",
              "      <td>Wingtip Toys</td>\n",
              "      <td>Telma Hermansson</td>\n",
              "      <td>90451</td>\n",
              "    </tr>\n",
              "  </tbody>\n",
              "</table>\n",
              "<p>402 rows × 6 columns</p>\n",
              "</div>"
            ],
            "text/plain": [
              "                                        Customer  ... Postal_Code\n",
              "Customer_Key                                      ...            \n",
              "1                    Tailspin Toys (Head Office)  ...       90410\n",
              "2                  Tailspin Toys (Sylvanite- MT)  ...       90216\n",
              "3             Tailspin Toys (Peeples Valley- AZ)  ...       90205\n",
              "4             Tailspin Toys (Medicine Lodge- KS)  ...       90152\n",
              "5                    Tailspin Toys (Gasport- NY)  ...       90261\n",
              "...                                          ...  ...         ...\n",
              "398                   Wingtip Toys (Haycock- AK)  ...       90603\n",
              "399                    Wingtip Toys (Kapa'a- HI)  ...       90796\n",
              "400               Wingtip Toys (Dickworsham- TX)  ...       90704\n",
              "401                      Wingtip Toys (Caro- MI)  ...       90043\n",
              "402                 Wingtip Toys (Ruthsburg- MD)  ...       90451\n",
              "\n",
              "[402 rows x 6 columns]"
            ]
          },
          "metadata": {},
          "execution_count": 47
        }
      ]
    },
    {
      "cell_type": "code",
      "metadata": {
        "colab": {
          "base_uri": "https://localhost:8080/",
          "height": 450
        },
        "id": "t8Oh9fGG53RS",
        "outputId": "6edc8f30-4e52-45e2-ec0e-8c30892c6d7a"
      },
      "source": [
        "new_customer_df = pd.read_csv('./Datos/dimension_customer_new.csv', sep=',')\n",
        "new_customer_df.set_index('Customer_Key', inplace=True)\n",
        "new_customer_df"
      ],
      "execution_count": 48,
      "outputs": [
        {
          "output_type": "execute_result",
          "data": {
            "text/html": [
              "<div>\n",
              "<style scoped>\n",
              "    .dataframe tbody tr th:only-of-type {\n",
              "        vertical-align: middle;\n",
              "    }\n",
              "\n",
              "    .dataframe tbody tr th {\n",
              "        vertical-align: top;\n",
              "    }\n",
              "\n",
              "    .dataframe thead th {\n",
              "        text-align: right;\n",
              "    }\n",
              "</style>\n",
              "<table border=\"1\" class=\"dataframe\">\n",
              "  <thead>\n",
              "    <tr style=\"text-align: right;\">\n",
              "      <th></th>\n",
              "      <th>Customer</th>\n",
              "      <th>Bill_To_Customer</th>\n",
              "      <th>Category</th>\n",
              "      <th>Buying_Group</th>\n",
              "      <th>Primary_Contact</th>\n",
              "      <th>Postal_Code</th>\n",
              "    </tr>\n",
              "    <tr>\n",
              "      <th>Customer_Key</th>\n",
              "      <th></th>\n",
              "      <th></th>\n",
              "      <th></th>\n",
              "      <th></th>\n",
              "      <th></th>\n",
              "      <th></th>\n",
              "    </tr>\n",
              "  </thead>\n",
              "  <tbody>\n",
              "    <tr>\n",
              "      <th>0</th>\n",
              "      <td>Unknown</td>\n",
              "      <td>NaN</td>\n",
              "      <td>NaN</td>\n",
              "      <td>NaN</td>\n",
              "      <td>NaN</td>\n",
              "      <td>NaN</td>\n",
              "    </tr>\n",
              "    <tr>\n",
              "      <th>1</th>\n",
              "      <td>Tailspin Toys (Head Office)</td>\n",
              "      <td>Tailspin Toys (Head Office)</td>\n",
              "      <td>Toys Shop</td>\n",
              "      <td>Tailspin Toys</td>\n",
              "      <td>Waldemar Fisar</td>\n",
              "      <td>90410.0</td>\n",
              "    </tr>\n",
              "    <tr>\n",
              "      <th>2</th>\n",
              "      <td>Tailspin Toys (Sylvanite- MT)</td>\n",
              "      <td>Tailspin Toys (Head Office)</td>\n",
              "      <td>Novelty Shop</td>\n",
              "      <td>Tailspin Toys</td>\n",
              "      <td>Lorena Cindric</td>\n",
              "      <td>90216.0</td>\n",
              "    </tr>\n",
              "    <tr>\n",
              "      <th>3</th>\n",
              "      <td>Tailspin Toys (Peeples Valley- AZ)</td>\n",
              "      <td>Tailspin Toys (Head Office)</td>\n",
              "      <td>Novelty Shop</td>\n",
              "      <td>Tailspin Toys</td>\n",
              "      <td>Bhaargav Rambhatla</td>\n",
              "      <td>90205.0</td>\n",
              "    </tr>\n",
              "    <tr>\n",
              "      <th>4</th>\n",
              "      <td>Tailspin Toys (Medicine Lodge- KS)</td>\n",
              "      <td>Tailspin Toys (Head Office)</td>\n",
              "      <td>Novelty Shop</td>\n",
              "      <td>Tailspin Toys</td>\n",
              "      <td>Daniel Roman</td>\n",
              "      <td>90152.0</td>\n",
              "    </tr>\n",
              "    <tr>\n",
              "      <th>...</th>\n",
              "      <td>...</td>\n",
              "      <td>...</td>\n",
              "      <td>...</td>\n",
              "      <td>...</td>\n",
              "      <td>...</td>\n",
              "      <td>...</td>\n",
              "    </tr>\n",
              "    <tr>\n",
              "      <th>398</th>\n",
              "      <td>Wingtip Toys (Haycock- AK)</td>\n",
              "      <td>Wingtip Toys (Head Office)</td>\n",
              "      <td>Novelty Shop</td>\n",
              "      <td>Wingtip Toys</td>\n",
              "      <td>Bhaamini Kanaparthi</td>\n",
              "      <td>90603.0</td>\n",
              "    </tr>\n",
              "    <tr>\n",
              "      <th>399</th>\n",
              "      <td>Wingtip Toys (Kapa'a- HI)</td>\n",
              "      <td>Wingtip Toys (Head Office)</td>\n",
              "      <td>Novelty Shop</td>\n",
              "      <td>Wingtip Toys</td>\n",
              "      <td>Margit Molnar</td>\n",
              "      <td>90796.0</td>\n",
              "    </tr>\n",
              "    <tr>\n",
              "      <th>400</th>\n",
              "      <td>Wingtip Toys (Dickworsham- TX)</td>\n",
              "      <td>Wingtip Toys (Head Office)</td>\n",
              "      <td>Toys Shop</td>\n",
              "      <td>Wingtip Toys</td>\n",
              "      <td>Chandni Jandhyala</td>\n",
              "      <td>90704.0</td>\n",
              "    </tr>\n",
              "    <tr>\n",
              "      <th>401</th>\n",
              "      <td>Wingtip Toys (Caro- MI)</td>\n",
              "      <td>Wingtip Toys (Head Office)</td>\n",
              "      <td>Novelty Shop</td>\n",
              "      <td>Wingtip Toys</td>\n",
              "      <td>Ljubomir Nesic</td>\n",
              "      <td>90043.0</td>\n",
              "    </tr>\n",
              "    <tr>\n",
              "      <th>402</th>\n",
              "      <td>Wingtip Toys (Ruthsburg- MD)</td>\n",
              "      <td>Wingtip Toys (Head Office)</td>\n",
              "      <td>Novelty Shop</td>\n",
              "      <td>Wingtip Toys</td>\n",
              "      <td>Telma Hermansson</td>\n",
              "      <td>90451.0</td>\n",
              "    </tr>\n",
              "  </tbody>\n",
              "</table>\n",
              "<p>403 rows × 6 columns</p>\n",
              "</div>"
            ],
            "text/plain": [
              "                                        Customer  ... Postal_Code\n",
              "Customer_Key                                      ...            \n",
              "0                                        Unknown  ...         NaN\n",
              "1                    Tailspin Toys (Head Office)  ...     90410.0\n",
              "2                  Tailspin Toys (Sylvanite- MT)  ...     90216.0\n",
              "3             Tailspin Toys (Peeples Valley- AZ)  ...     90205.0\n",
              "4             Tailspin Toys (Medicine Lodge- KS)  ...     90152.0\n",
              "...                                          ...  ...         ...\n",
              "398                   Wingtip Toys (Haycock- AK)  ...     90603.0\n",
              "399                    Wingtip Toys (Kapa'a- HI)  ...     90796.0\n",
              "400               Wingtip Toys (Dickworsham- TX)  ...     90704.0\n",
              "401                      Wingtip Toys (Caro- MI)  ...     90043.0\n",
              "402                 Wingtip Toys (Ruthsburg- MD)  ...     90451.0\n",
              "\n",
              "[403 rows x 6 columns]"
            ]
          },
          "metadata": {},
          "execution_count": 48
        }
      ]
    },
    {
      "cell_type": "markdown",
      "metadata": {
        "id": "02UYMwZL6XiG"
      },
      "source": [
        "# Métodos SCD"
      ]
    },
    {
      "cell_type": "markdown",
      "metadata": {
        "id": "E6YhS9FB9f_x"
      },
      "source": [
        "Utilizamos la siguiente referencia para guiarnos: "
      ]
    },
    {
      "cell_type": "markdown",
      "metadata": {
        "id": "g7HGEhe17LzM"
      },
      "source": [
        "## Tipo 0"
      ]
    },
    {
      "cell_type": "markdown",
      "metadata": {
        "id": "BrOPy5M17epy"
      },
      "source": [
        "Acorde a lo visto en el material de clase, se puede aplicar este método. En particular, no toca hacer nada."
      ]
    },
    {
      "cell_type": "markdown",
      "metadata": {
        "id": "L3kCxXQ47X5j"
      },
      "source": [
        "## Tipo 1"
      ]
    },
    {
      "cell_type": "code",
      "metadata": {
        "id": "3mK6EObg7srF"
      },
      "source": [
        "customer_df_type1 = customer_df.copy()\n",
        "new_customer_df_type1 = new_customer_df.copy()"
      ],
      "execution_count": 49,
      "outputs": []
    },
    {
      "cell_type": "code",
      "metadata": {
        "id": "FHcYSbM19vO5"
      },
      "source": [
        "for index in new_customer_df_type1.index:\n",
        "  if index in customer_df_type1.index:\n",
        "    customer_df_type1.loc[index] = new_customer_df_type1.loc[index]\n",
        "\n",
        "  else:\n",
        "    customer_df_type1.loc[index] = new_customer_df_type1.loc[index]\n",
        "\n",
        "customer_df_type1.to_csv('./Datos/dimension_customer_type1.csv', index=False)"
      ],
      "execution_count": 50,
      "outputs": []
    },
    {
      "cell_type": "markdown",
      "metadata": {
        "id": "asggAxwQ7WJk"
      },
      "source": [
        "## Tipo 2"
      ]
    },
    {
      "cell_type": "code",
      "metadata": {
        "id": "NX0-YNJUAci3"
      },
      "source": [
        "customer_df_type2 = customer_df.copy()\n",
        "new_customer_df_type2 = new_customer_df.copy()"
      ],
      "execution_count": 54,
      "outputs": []
    },
    {
      "cell_type": "code",
      "metadata": {
        "id": "wnUPrKRoB1NO"
      },
      "source": [
        "customer_df_type2['_version'] = 1\n",
        "new_customer_df_type2['_version'] = 1"
      ],
      "execution_count": 55,
      "outputs": []
    },
    {
      "cell_type": "code",
      "metadata": {
        "id": "PENm1UXG7tQl"
      },
      "source": [
        "for index in new_customer_df_type2.index:\n",
        "  if index in customer_df_type2.index:\n",
        "    previous = customer_df_type2.loc[index]\n",
        "    current = new_customer_df_type2.loc[index]\n",
        "\n",
        "    if previous.equals(current) is False:\n",
        "      new_customer_df_type2.loc[index, '_version'] = customer_df_type2.loc[index, '_version'] + 1\n",
        "\n",
        "    else:\n",
        "      new_customer_df_type2.drop(index)\n",
        "\n",
        "customer_df_type2 = customer_df_type2.append(new_customer_df_type2)\n",
        "customer_df_type2.to_csv('./Datos/dimension_customer_type2.csv', index=False)"
      ],
      "execution_count": 56,
      "outputs": []
    },
    {
      "cell_type": "markdown",
      "metadata": {
        "id": "1Fe6BBRkHCg4"
      },
      "source": [
        "## Tipo 3"
      ]
    },
    {
      "cell_type": "markdown",
      "metadata": {
        "id": "eB8Wreb_HKfm"
      },
      "source": [
        "Asumimos que el atributo que cambia es el contacto primario, por lo que es el más volátil de los presentados en la tabla."
      ]
    },
    {
      "cell_type": "code",
      "metadata": {
        "id": "cE7jVSu2HSag"
      },
      "source": [
        "customer_df_type3 = customer_df.copy()\n",
        "new_customer_df_type3 = new_customer_df.copy()"
      ],
      "execution_count": 57,
      "outputs": []
    },
    {
      "cell_type": "code",
      "metadata": {
        "id": "38-6aeX1Hhey"
      },
      "source": [
        "customer_df_type3['Previous_Primary_Contact'] = 'Non-existent'"
      ],
      "execution_count": 58,
      "outputs": []
    },
    {
      "cell_type": "code",
      "metadata": {
        "id": "ZE0HhGqtHW-D",
        "colab": {
          "base_uri": "https://localhost:8080/"
        },
        "outputId": "652be712-f1f3-49e9-9c58-4ba29845e498"
      },
      "source": [
        "for index in new_customer_df_type3.index:\n",
        "  if index in customer_df_type3.index:\n",
        "    previous = customer_df_type3.loc[index, 'Primary_Contact']\n",
        "    current = new_customer_df_type3.loc[index, 'Primary_Contact']\n",
        "\n",
        "    if previous != current:\n",
        "      customer_df_type3.loc[index, 'Primary_Contact'] = current\n",
        "      customer_df_type3.loc[index, 'Previous_Primary_Contact'] = previous\n",
        "\n",
        "  else:\n",
        "    row = new_customer_df_type3.loc[index]\n",
        "    row['Previous_Primary_Contact'] = 'Non-existent'\n",
        "    customer_df_type3.loc[index] = row\n",
        "  \n",
        "customer_df_type3.to_csv('dimension_customer_type3.csv', index=False)"
      ],
      "execution_count": 59,
      "outputs": [
        {
          "output_type": "stream",
          "name": "stderr",
          "text": [
            "/usr/local/lib/python3.7/dist-packages/ipykernel_launcher.py:12: SettingWithCopyWarning: \n",
            "A value is trying to be set on a copy of a slice from a DataFrame\n",
            "\n",
            "See the caveats in the documentation: https://pandas.pydata.org/pandas-docs/stable/user_guide/indexing.html#returning-a-view-versus-a-copy\n",
            "  if sys.path[0] == '':\n",
            "/usr/local/lib/python3.7/dist-packages/pandas/core/indexing.py:670: SettingWithCopyWarning: \n",
            "A value is trying to be set on a copy of a slice from a DataFrame\n",
            "\n",
            "See the caveats in the documentation: https://pandas.pydata.org/pandas-docs/stable/user_guide/indexing.html#returning-a-view-versus-a-copy\n",
            "  iloc._setitem_with_indexer(indexer, value)\n"
          ]
        }
      ]
    }
  ]
}